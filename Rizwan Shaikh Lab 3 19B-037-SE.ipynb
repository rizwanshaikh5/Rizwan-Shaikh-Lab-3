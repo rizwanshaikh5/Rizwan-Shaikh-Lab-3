{
 "cells": [
  {
   "cell_type": "markdown",
   "metadata": {},
   "source": [
    "Program 1"
   ]
  },
  {
   "cell_type": "code",
   "execution_count": 1,
   "metadata": {},
   "outputs": [
    {
     "name": "stdout",
     "output_type": "stream",
     "text": [
      "The magnitude of linear velocity with radius 0.5 and angular velocity 10 is: 5.0 m/s\n",
      "The magnitude of linear velocity with radius 1 and angular velocity 10 is: 10 m/s\n",
      "The magnitude of linear velocity with radius 2 and angular velocity 10 is: 20 m/s\n"
     ]
    }
   ],
   "source": [
    "r1=0.5\n",
    "r2 =1 \n",
    "r3=2\n",
    "w =10\n",
    "v1=r1*w\n",
    "print(\"The magnitude of linear velocity with radius 0.5 and angular velocity 10 is: \"+str(v1)+\" m/s\")\n",
    "v2=r2*w\n",
    "print(\"The magnitude of linear velocity with radius 1 and angular velocity 10 is: \"+str(v2)+\" m/s\")\n",
    "v3=r3*w\n",
    "print(\"The magnitude of linear velocity with radius 2 and angular velocity 10 is: \"+str(v3)+\" m/s\")"
   ]
  },
  {
   "cell_type": "markdown",
   "metadata": {},
   "source": [
    "Program 2"
   ]
  },
  {
   "cell_type": "code",
   "execution_count": 2,
   "metadata": {},
   "outputs": [
    {
     "name": "stdout",
     "output_type": "stream",
     "text": [
      "The magnitude of linear velocity with radius 5 cm and angular velocity 523.3 radian/sec is: 2615.62 m/s\n",
      "The magnitude of linear velocity with radius 10 cm and angular velocity 523.3 radian/sec is: 5231.24 m/s\n"
     ]
    }
   ],
   "source": [
    "r1 = 5 \n",
    "r2 = 10\n",
    "w= 5000/60\n",
    "w= 83.3*6.28\n",
    "\n",
    "v1=r1*w\n",
    "print(\"The magnitude of linear velocity with radius 5 cm and angular velocity 523.3 radian/sec is: \"+str(v1)+\" m/s\")\n",
    "\n",
    "v2=r2*w\n",
    "print(\"The magnitude of linear velocity with radius 10 cm and angular velocity 523.3 radian/sec is: \"+str(v2)+\" m/s\")"
   ]
  },
  {
   "cell_type": "markdown",
   "metadata": {},
   "source": [
    "Program 3"
   ]
  },
  {
   "cell_type": "code",
   "execution_count": 3,
   "metadata": {},
   "outputs": [
    {
     "name": "stdout",
     "output_type": "stream",
     "text": [
      "The angular velocity with radius 0.3 meter and linear velocity at 10 m/s is 33.333333333333336 rad/s\n"
     ]
    }
   ],
   "source": [
    "r = 0.3\n",
    "v = 10\n",
    "w = v/r\n",
    "print(\"The angular velocity with radius 0.3 meter and linear velocity at 10 m/s is \"+str(w)+\" rad/s\")"
   ]
  },
  {
   "cell_type": "markdown",
   "metadata": {},
   "source": [
    "Program 4"
   ]
  },
  {
   "cell_type": "code",
   "execution_count": 4,
   "metadata": {},
   "outputs": [
    {
     "name": "stdout",
     "output_type": "stream",
     "text": [
      "The angular velocity with radius 0.25 meter and linear velocity at 10 m/s is 40.0 rad/s\n"
     ]
    }
   ],
   "source": [
    "r = 0.25\n",
    "v = 10\n",
    "w = v/r\n",
    "print(\"The angular velocity with radius 0.25 meter and linear velocity at 10 m/s is \"+str(w)+\" rad/s\")"
   ]
  },
  {
   "cell_type": "markdown",
   "metadata": {},
   "source": [
    "Program 5"
   ]
  },
  {
   "cell_type": "code",
   "execution_count": 5,
   "metadata": {},
   "outputs": [
    {
     "name": "stdout",
     "output_type": "stream",
     "text": [
      "The distance that the car travels in 10 second is 2.5120000000000005 meter\n"
     ]
    }
   ],
   "source": [
    "r = 20/100\n",
    "w = 120/60\n",
    "w =2*6.28\n",
    "\n",
    "v = r*w\n",
    "print(\"The distance that the car travels in 10 second is \"+str(v)+\" meter\")"
   ]
  },
  {
   "cell_type": "markdown",
   "metadata": {},
   "source": [
    "Program 6"
   ]
  },
  {
   "cell_type": "code",
   "execution_count": 6,
   "metadata": {},
   "outputs": [
    {
     "name": "stdout",
     "output_type": "stream",
     "text": [
      "The cars travels 70 miles/hour from initial posion in next 2 hours\n"
     ]
    }
   ],
   "source": [
    "u = 50\n",
    "a= 10\n",
    "t = 2\n",
    "v=u+a*t\n",
    "print(\"The cars travels \"+str(v)+\" miles/hour from initial posion in next 2 hours\")"
   ]
  },
  {
   "cell_type": "markdown",
   "metadata": {},
   "source": [
    "Program 7"
   ]
  },
  {
   "cell_type": "code",
   "execution_count": 7,
   "metadata": {},
   "outputs": [
    {
     "name": "stdout",
     "output_type": "stream",
     "text": [
      "With the velocity 80.0 It will hit the ground \n"
     ]
    }
   ],
   "source": [
    "from math import sqrt\n",
    "\n",
    "u = 0\n",
    "s = 100\n",
    "a = 32\n",
    "v = sqrt(2*a*s-u**2)\n",
    "print(\"With the velocity \"+str(v)+\" It will hit the ground \")"
   ]
  }
 ],
 "metadata": {
  "kernelspec": {
   "display_name": "Python 3",
   "language": "python",
   "name": "python3"
  },
  "language_info": {
   "codemirror_mode": {
    "name": "ipython",
    "version": 3
   },
   "file_extension": ".py",
   "mimetype": "text/x-python",
   "name": "python",
   "nbconvert_exporter": "python",
   "pygments_lexer": "ipython3",
   "version": "3.7.3"
  }
 },
 "nbformat": 4,
 "nbformat_minor": 2
}
