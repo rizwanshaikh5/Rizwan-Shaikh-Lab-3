{
 "cells": [
  {
   "cell_type": "markdown",
   "metadata": {},
   "source": [
    "Program 1"
   ]
  },
  {
   "cell_type": "code",
   "execution_count": 1,
   "metadata": {},
   "outputs": [
    {
     "name": "stdout",
     "output_type": "stream",
     "text": [
      "Sum is : 32\n",
      "Difference is : -12\n",
      "product is : 220\n",
      "Division is : 0.45454545454545453\n",
      "Integer Division is : 0\n",
      "Rasised to the power is : 10000000000000000000000\n",
      "Remainder is : 10\n"
     ]
    }
   ],
   "source": [
    "a = 10\n",
    "b = 22\n",
    "\n",
    "#using sum operator\n",
    "print(\"Sum is :\", a+b)\n",
    "#using subtract operator\n",
    "print(\"Difference is :\", a-b)\n",
    "#using multiplication operator\n",
    "print(\"product is :\", a*b)\n",
    "#using division operator\n",
    "print(\"Division is :\", a/b)\n",
    "#using interger division operator\n",
    "print(\"Integer Division is :\", a//b)\n",
    "#using power operator\n",
    "print(\"Rasised to the power is :\" , a**b)\n",
    "#using modulus operator\n",
    "print(\"Remainder is :\", a%b)"
   ]
  },
  {
   "cell_type": "markdown",
   "metadata": {},
   "source": [
    "Program 2"
   ]
  },
  {
   "cell_type": "code",
   "execution_count": 2,
   "metadata": {},
   "outputs": [
    {
     "name": "stdout",
     "output_type": "stream",
     "text": [
      "8\n",
      "2\n",
      "15\n",
      "1.6666666666666667\n",
      "2\n",
      "1\n",
      "125\n",
      "1\n",
      "7\n",
      "6\n",
      "0\n",
      "40\n"
     ]
    }
   ],
   "source": [
    "x = 5\n",
    "x += 3\n",
    "print(x)\n",
    "\n",
    "x = 5\n",
    "x -= 3\n",
    "print(x)\n",
    "\n",
    "x = 5\n",
    "x *= 3\n",
    "print(x)\n",
    "\n",
    "x = 5\n",
    "x /= 3\n",
    "print(x)\n",
    "\n",
    "x = 5\n",
    "x %= 3 \n",
    "print(x)\n",
    "\n",
    "x = 5\n",
    "x //= 3\n",
    "print(x)\n",
    "\n",
    "x = 5\n",
    "x **= 3\n",
    "print(x)\n",
    "\n",
    "x = 5\n",
    "x &= 3\n",
    "print(x)\n",
    "\n",
    "x = 5\n",
    "x |= 3\n",
    "print(x)\n",
    "\n",
    "x = 5\n",
    "x ^= 3\n",
    "print(x)\n",
    "\n",
    "x = 5\n",
    "x >>= 3\n",
    "print(x)\n",
    "\n",
    "x = 5\n",
    "x <<= 3\n",
    "print(x)"
   ]
  },
  {
   "cell_type": "markdown",
   "metadata": {},
   "source": [
    "Program 3"
   ]
  },
  {
   "cell_type": "code",
   "execution_count": 3,
   "metadata": {},
   "outputs": [
    {
     "name": "stdout",
     "output_type": "stream",
     "text": [
      "X is equal to Y : False\n",
      "X is not equal to Y : True\n",
      "X is greater than Y : True\n",
      "X is less than Y : False\n",
      "X is greater than or equal to Y: True\n",
      "X is less than or equals to Y : False\n"
     ]
    }
   ],
   "source": [
    "x = 20\n",
    "y = 15\n",
    "\n",
    "print(\"X is equal to Y :\", x==y )\n",
    "print(\"X is not equal to Y :\", x!=y)\n",
    "print(\"X is greater than Y :\", x>y)\n",
    "print(\"X is less than Y :\", x<y)\n",
    "print(\"X is greater than or equal to Y:\", x>=y)\n",
    "print(\"X is less than or equals to Y :\", x<=y)"
   ]
  },
  {
   "cell_type": "markdown",
   "metadata": {},
   "source": [
    "Program 4"
   ]
  },
  {
   "cell_type": "code",
   "execution_count": 4,
   "metadata": {},
   "outputs": [
    {
     "name": "stdout",
     "output_type": "stream",
     "text": [
      "True\n",
      "True\n",
      "False\n"
     ]
    }
   ],
   "source": [
    "x = 15\n",
    "print(x>13 and x <20)\n",
    "\n",
    "x = 25\n",
    "print(x>23 or x <24)\n",
    "\n",
    "x = 35\n",
    "print(not(x>33 and x<40))"
   ]
  },
  {
   "cell_type": "markdown",
   "metadata": {},
   "source": [
    "Program 5"
   ]
  },
  {
   "cell_type": "code",
   "execution_count": 5,
   "metadata": {},
   "outputs": [
    {
     "name": "stdout",
     "output_type": "stream",
     "text": [
      "True\n",
      "False\n",
      "True\n"
     ]
    }
   ],
   "source": [
    "x = [\"ahmed\",\"bashir\"]\n",
    "y = [\"ahmed\",\"bashir\"]\n",
    "z = x\n",
    "\n",
    "print(x is z)\n",
    "print(x is y)\n",
    "print( x == y)"
   ]
  },
  {
   "cell_type": "markdown",
   "metadata": {},
   "source": [
    "Program 6"
   ]
  },
  {
   "cell_type": "code",
   "execution_count": 6,
   "metadata": {},
   "outputs": [
    {
     "name": "stdout",
     "output_type": "stream",
     "text": [
      "False\n",
      "True\n",
      "False\n"
     ]
    }
   ],
   "source": [
    "x = [\"ahmed\",\"bashir\"]\n",
    "y = [\"ahmed\",\"bashir\"]\n",
    "z = x\n",
    "\n",
    "print(x is not z)\n",
    "print(x is not y)\n",
    "print(x != y)"
   ]
  },
  {
   "cell_type": "markdown",
   "metadata": {},
   "source": [
    "Program 7"
   ]
  },
  {
   "cell_type": "code",
   "execution_count": 7,
   "metadata": {},
   "outputs": [
    {
     "name": "stdout",
     "output_type": "stream",
     "text": [
      "True\n"
     ]
    }
   ],
   "source": [
    "x=[\"wasim\",\"lubaid\",\"shahroz\",\"usman\",\"faisal\",\"farhan\"]\n",
    "print(\"faisal\" in x)"
   ]
  },
  {
   "cell_type": "markdown",
   "metadata": {},
   "source": [
    "Program 8"
   ]
  },
  {
   "cell_type": "code",
   "execution_count": 8,
   "metadata": {},
   "outputs": [
    {
     "name": "stdout",
     "output_type": "stream",
     "text": [
      "True\n"
     ]
    }
   ],
   "source": [
    "x=[\"wasim\",\"lubaid\",\"shahroz\",\"usman\",\"faisal\",\"farhan\"]\n",
    "print(\"parkash\"not in x)"
   ]
  },
  {
   "cell_type": "markdown",
   "metadata": {},
   "source": [
    "Program 9"
   ]
  },
  {
   "cell_type": "code",
   "execution_count": null,
   "metadata": {},
   "outputs": [
    {
     "name": "stdout",
     "output_type": "stream",
     "text": [
      "Give me velocity to fire at in m/s : 10\n"
     ]
    }
   ],
   "source": [
    "import math\n",
    "#user inputs\n",
    "velocity = float(input('Give me velocity to fire at in m/s : '))\n",
    "angle = float(input(\"Give me an angle to fire at : \"))\n",
    "distance = float(input(\"Give me how far away you are from structure : \"))\n",
    "height = float(input(\"Give me height of your structure (in meters) : \"))\n",
    "#height of sling shot in meter\n",
    "slingshot = 5\n",
    "#Earth gravity\n",
    "gravity = 9.8\n",
    "\n",
    "#converting degree to radians\n",
    "angleRad = math.radians(angle)\n",
    "\n",
    "#computing our x and y co-ordinates\n",
    "y=math.cos(angleRad)\n",
    "x=math.sin(angleRad)\n",
    "\n",
    "#calculations\n",
    "time = distance/(velocity*x)\n",
    "vx = x\n",
    "vy = y + (-9.8 * time)\n",
    "finalvelocity = math.sqrt((vx**2)+(vy**2))\n",
    "print(finalvelocity)"
   ]
  }
 ],
 "metadata": {
  "kernelspec": {
   "display_name": "Python 3",
   "language": "python",
   "name": "python3"
  },
  "language_info": {
   "codemirror_mode": {
    "name": "ipython",
    "version": 3
   },
   "file_extension": ".py",
   "mimetype": "text/x-python",
   "name": "python",
   "nbconvert_exporter": "python",
   "pygments_lexer": "ipython3",
   "version": "3.7.3"
  }
 },
 "nbformat": 4,
 "nbformat_minor": 2
}
